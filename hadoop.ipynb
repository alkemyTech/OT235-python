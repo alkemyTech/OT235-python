{
  "cells": [
    {
      "cell_type": "code",
      "execution_count": null,
      "metadata": {
        "id": "BQaUWiSHi_CY"
      },
      "outputs": [],
      "source": [
        "!wget https://downloads.apache.org/hadoop/common/hadoop-3.3.3/hadoop-3.3.3.tar.gz"
      ]
    },
    {
      "cell_type": "code",
      "execution_count": null,
      "metadata": {
        "id": "i9KN53OnjqjG"
      },
      "outputs": [],
      "source": [
        "!tar -xzvf hadoop-3.3.3.tar.gz"
      ]
    },
    {
      "cell_type": "code",
      "execution_count": 5,
      "metadata": {
        "id": "gPL83h3vjuOU"
      },
      "outputs": [],
      "source": [
        "#copy  hadoop file to user/local\n",
        "!cp -r hadoop-3.3.3/ /usr/local/"
      ]
    },
    {
      "cell_type": "code",
      "execution_count": null,
      "metadata": {
        "id": "VgW2ElJpj4ah"
      },
      "outputs": [],
      "source": [
        "#To find the default Java path\n",
        "!readlink -f /usr/bin/java | sed \"s:bin/java::\""
      ]
    },
    {
      "cell_type": "code",
      "execution_count": null,
      "metadata": {
        "id": "28-py_6_j8oT"
      },
      "outputs": [],
      "source": [
        "#Running Hadoop\n",
        "!/usr/local/hadoop-3.3.3/bin/hadoop"
      ]
    },
    {
      "cell_type": "code",
      "execution_count": 8,
      "metadata": {
        "id": "djfVHTnXmD7A"
      },
      "outputs": [],
      "source": [
        "!mkdir ~/input\n",
        "!cp /usr/local/hadoop-3.3.3/etc/hadoop/*.xml ~/input"
      ]
    },
    {
      "cell_type": "code",
      "execution_count": null,
      "metadata": {
        "id": "CtVhGUVumPbM"
      },
      "outputs": [],
      "source": [
        "!ls ~/input"
      ]
    },
    {
      "cell_type": "code",
      "execution_count": null,
      "metadata": {
        "id": "qbaFxx3NmUQ4"
      },
      "outputs": [],
      "source": [
        "!/usr/local/hadoop-3.3.3/bin/hadoop jar /usr/local/hadoop-3.3.3/share/hadoop/mapreduce/hadoop-mapreduce-examples-3.3.3.jar grep ~/input ~/grep_example 'allowed[.]*'"
      ]
    },
    {
      "cell_type": "code",
      "execution_count": null,
      "metadata": {
        "id": "tnmDF3fZmih5"
      },
      "outputs": [],
      "source": [
        "!cat ~/grep_example/*"
      ]
    },
    {
      "cell_type": "code",
      "execution_count": null,
      "metadata": {
        "id": "5wL6FTwkne64"
      },
      "outputs": [],
      "source": [
        "!find / -name 'hadoop-streaming*.jar'"
      ]
    },
    {
      "cell_type": "code",
      "source": [
        "import nltk\n",
        "nltk.download('stopwords')"
      ],
      "metadata": {
        "id": "LErsbb1wOuft"
      },
      "execution_count": null,
      "outputs": []
    },
    {
      "cell_type": "code",
      "execution_count": 49,
      "metadata": {
        "id": "NXLpqbBhnnI4"
      },
      "outputs": [],
      "source": [
        "!chmod u+rwx /content/mapper2.py\n",
        "!chmod u+rwx /content/reducer2.py"
      ]
    },
    {
      "cell_type": "code",
      "source": [
        "!/usr/local/hadoop-3.3.3/bin/hadoop jar /usr/local/hadoop-3.3.3/share/hadoop/tools/lib/hadoop-streaming-3.3.3.jar -inputreader \"StreamXmlRecordReader,begin=posts,end=/posts\" -input /content/drive/MyDrive/BIGDATA/posts.xml -output /content/output -file /content/mapper2.py -file /content/reducer2.py -mapper 'python3 mapper2.py' -reducer 'python3 reducer2.py'"
      ],
      "metadata": {
        "id": "w6-vYI7jsEr_"
      },
      "execution_count": null,
      "outputs": []
    },
    {
      "cell_type": "code",
      "source": [
        "!ls /content/output"
      ],
      "metadata": {
        "id": "T71hHVGv_tT0"
      },
      "execution_count": null,
      "outputs": []
    },
    {
      "cell_type": "code",
      "source": [
        "!cat /content/output/part-00000"
      ],
      "metadata": {
        "id": "dTCoB0O7slsX"
      },
      "execution_count": null,
      "outputs": []
    }
  ],
  "metadata": {
    "colab": {
      "name": "Untitled9.ipynb",
      "provenance": []
    },
    "kernelspec": {
      "display_name": "Python 3",
      "name": "python3"
    },
    "language_info": {
      "name": "python"
    }
  },
  "nbformat": 4,
  "nbformat_minor": 0
}